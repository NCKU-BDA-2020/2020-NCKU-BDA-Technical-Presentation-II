{
 "cells": [
  {
   "cell_type": "markdown",
   "metadata": {},
   "source": [
    "# BeautifulSoup mini-homework\n",
    "\n",
    "* 本次作業期望利用套件Beautiful及requests進行網頁抓取\n",
    "* 目標網站為知名網站批踢踢實業坊之movie版\n",
    "* 抓取最新之5頁內容\n",
    "* 輸出csv檔，其中包含作者、看板、標題、時間、分數、內容\n",
    "* 其中分數欄算法 : 推+1分、噓-1分\n"
   ]
  },
  {
   "cell_type": "markdown",
   "metadata": {},
   "source": [
    "### Step1 : Import Package"
   ]
  },
  {
   "cell_type": "code",
   "execution_count": 1,
   "metadata": {},
   "outputs": [],
   "source": [
    "import re\n",
    "# Web scraping\n",
    "from bs4 import BeautifulSoup\n",
    "import requests\n",
    "# Data manipulation\n",
    "import numpy as np\n",
    "import pandas as pd"
   ]
  },
  {
   "cell_type": "markdown",
   "metadata": {},
   "source": [
    "### Step2 : Recommended Variable"
   ]
  },
  {
   "cell_type": "code",
   "execution_count": null,
   "metadata": {},
   "outputs": [],
   "source": [
    "# 從 movie 版首頁開始\n",
    "url = \"https://www.ptt.cc/bbs/movie/index.html\"\n",
    "\n",
    "# 準備要記錄的表格\n",
    "df = pd.DataFrame(columns=[\"作者\", \"看板\", \"標題\", \"時間\", \"分數\", \"內容\"])\n"
   ]
  },
  {
   "cell_type": "markdown",
   "metadata": {},
   "source": [
    "### Step3 : Define a function\n",
    "\n",
    "定義一個函數，可以使之回傳讀取完一篇文章所抓取到的6項變數資料\n",
    "* 可能會使用到資料分析相關套件(如:pandas)\n",
    "* 不需要的資料(如:公告、版規等)務必過濾掉\n"
   ]
  },
  {
   "cell_type": "code",
   "execution_count": null,
   "metadata": {},
   "outputs": [],
   "source": [
    "def get_page_meta(url):\n",
    "    result = {}\n",
    "    return result"
   ]
  },
  {
   "cell_type": "markdown",
   "metadata": {},
   "source": [
    "### Step4 : Main Program\n",
    "\n",
    "請仔細觀察該網站之原始碼規律，搭配上課提及的方法完成作業。\n",
    "* 注意輸出csv檔之前須考慮編碼方式(可搭配 encoding=\"utf_8_sig\")"
   ]
  },
  {
   "cell_type": "code",
   "execution_count": null,
   "metadata": {},
   "outputs": [],
   "source": []
  }
 ],
 "metadata": {
  "kernelspec": {
   "display_name": "Python 3",
   "language": "python",
   "name": "python3"
  },
  "language_info": {
   "codemirror_mode": {
    "name": "ipython",
    "version": 3
   },
   "file_extension": ".py",
   "mimetype": "text/x-python",
   "name": "python",
   "nbconvert_exporter": "python",
   "pygments_lexer": "ipython3",
   "version": "3.5.2"
  }
 },
 "nbformat": 4,
 "nbformat_minor": 4
}
